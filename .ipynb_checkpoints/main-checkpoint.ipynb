{
 "cells": [
  {
   "cell_type": "markdown",
   "metadata": {},
   "source": [
    "# Project 1"
   ]
  },
  {
   "cell_type": "code",
   "execution_count": 3,
   "metadata": {},
   "outputs": [],
   "source": [
    "import pandas as pd\n",
    "import numpy as np\n",
    "import matplotlib.pyplot as plt\n",
    "from sklearn.model_selection import train_test_split\n",
    "from sklearn import preprocessing\n",
    "from sklearn.linear_model import LogisticRegression\n",
    "from sklearn.metrics import confusion_matrix\n"
   ]
  },
  {
   "cell_type": "markdown",
   "metadata": {},
   "source": [
    "# Extract features values and Image Ids from the data: "
   ]
  },
  {
   "cell_type": "code",
   "execution_count": 6,
   "metadata": {},
   "outputs": [],
   "source": [
    "bf=pd.read_csv('wdbc.dataset', delimiter=',',names=['a','b','c','d','e','f','g','h','i','j','k','l','m','n','o','p','q','r','s','t','u','v','w','x','y','z','aa','ab','ac','ad','ae','af'])"
   ]
  },
  {
   "cell_type": "code",
   "execution_count": 7,
   "metadata": {
    "scrolled": true
   },
   "outputs": [],
   "source": [
    "bf=bf.drop(columns='a') #cleansing\n",
    "Y_whole=bf['b'].tolist() #whole label\n",
    "X_whole=bf.iloc[:,1:] #whole features\n",
    "for n, i in enumerate(Y_whole): #binary values\n",
    " if i == 'M':\n",
    "  Y_whole[n] = 1\n",
    " else:\n",
    "  Y_whole[n] = 0\n",
    "Y_whole=np.asarray(Y_whole)"
   ]
  },
  {
   "cell_type": "code",
   "execution_count": 8,
   "metadata": {
    "scrolled": true
   },
   "outputs": [],
   "source": [
    "#normalization #DATA SCALING\n",
    "min_max_scaler = preprocessing.MinMaxScaler()\n",
    "x_norm = min_max_scaler.fit_transform(X_whole)\n",
    "X_whole = pd.DataFrame(x_norm)"
   ]
  },
  {
   "cell_type": "markdown",
   "metadata": {},
   "source": [
    "# Data Partitioning:"
   ]
  },
  {
   "cell_type": "code",
   "execution_count": 9,
   "metadata": {},
   "outputs": [],
   "source": [
    "#partition traning and test data\n",
    "X, X_test, Y, Y_test = train_test_split(\n",
    "X_whole,Y_whole,test_size=0.20, random_state=0)\n",
    "#X.shape[0], X_test.shape[0], Y.shape[0], Y_test.shape[0]\n",
    "\n",
    "\n",
    "#partition validation and test data\n",
    "X_test, X_val, Y_test, Y_val = train_test_split(\n",
    "X_test,Y_test,test_size=0.50, random_state=1)\n",
    "#X_test.shape[0],X_val.shape[0],Y_test.shape[0],Y_val.shape[0]"
   ]
  },
  {
   "cell_type": "code",
   "execution_count": 26,
   "metadata": {},
   "outputs": [
    {
     "name": "stdout",
     "output_type": "stream",
     "text": [
      "1 358    0.195468\n",
      "194    0.456544\n",
      "564    0.428813\n",
      "85     0.297937\n",
      "134    0.412580\n",
      "159    0.109909\n",
      "432    0.332432\n",
      "546    0.224552\n",
      "372    0.182279\n",
      "340    0.230977\n",
      "400    0.382482\n",
      "15     0.602976\n",
      "283    0.306392\n",
      "298    0.286101\n",
      "179    0.113290\n",
      "519    0.236388\n",
      "235    0.390260\n",
      "170    0.090632\n",
      "538    0.533649\n",
      "196    0.425431\n",
      "512    0.365573\n",
      "560    0.589787\n",
      "473    0.685154\n",
      "482    0.147109\n",
      "75     0.336152\n",
      "268    0.219817\n",
      "310    0.317890\n",
      "213    0.536016\n",
      "157    0.329726\n",
      "308    0.101454\n",
      "264    0.417991\n",
      "46     0.241123\n",
      "210    0.420358\n",
      "420    0.315522\n",
      "89     0.187014\n",
      "337    0.396348\n",
      "364    0.244843\n",
      "90     0.483936\n",
      "330    0.196145\n",
      "389    0.456544\n",
      "31     0.304024\n",
      "12     0.510315\n",
      "401    0.040582\n",
      "382    0.439973\n",
      "17     0.370984\n",
      "525    0.114643\n",
      "457    0.525533\n",
      "318    0.310788\n",
      "468    0.460602\n",
      "391    0.241123\n",
      "515    0.300981\n",
      "458    0.521474\n",
      "345    0.169090\n",
      "249    0.176530\n",
      "412    0.404802\n",
      "518    0.287792\n",
      "127    0.311126\n",
      "Name: 1, dtype: float64\n"
     ]
    }
   ],
   "source": [
    "#sample cleaned data\n",
    "print(Y_test[1],X_test[1])"
   ]
  },
  {
   "cell_type": "markdown",
   "metadata": {},
   "source": [
    "# Train using Logistic Regression: "
   ]
  },
  {
   "cell_type": "code",
   "execution_count": 2094,
   "metadata": {},
   "outputs": [],
   "source": [
    "\n",
    "class LogisticRegression:\n",
    "    def __init__(self, lr, epoch):\n",
    "        self.lr = lr\n",
    "        self.epoch = epoch\n",
    "        \n",
    "    def train(self, X, Y):\n",
    "        self.weights = np.zeros(X.shape[1])\n",
    "        loss_arry=[]\n",
    "        a=[]\n",
    "        for i in range(self.epoch):\n",
    "            z = np.dot(X, self.weights)\n",
    "            sigmoid = 1 / (1 + np.exp(-z))\n",
    "            gradient = np.dot(X.T, (sigmoid - Y)) / Y.size\n",
    "            self.weights -= self.lr * gradient\n",
    "            z = np.dot(X, self.weights)\n",
    "            sigmoid = 1 / (1 + np.exp(-z))\n",
    "            a.append(sigmoid)\n",
    "            loss = (-Y * np.log(sigmoid) - (1 - Y) * np.log(1 - sigmoid)).mean()\n",
    "            \n",
    "            \n",
    "    def get_loss(self, X, Y):\n",
    "        self.weights = np.zeros(X.shape[1])\n",
    "        loss_arry3=[]\n",
    "        for i in range(self.epoch):\n",
    "            z = np.dot(X, self.weights)\n",
    "            sigmoid = 1 / (1 + np.exp(-z))\n",
    "            gradient = np.dot(X.T, (sigmoid - Y)) / Y.size\n",
    "            self.weights -= self.lr * gradient\n",
    "            z = np.dot(X, self.weights)\n",
    "            sigmoid = 1 / (1 + np.exp(-z))\n",
    "            loss = (-Y * np.log(sigmoid) - (1 - Y) * np.log(1 - sigmoid)).mean()\n",
    "            loss_arry3.append(loss)\n",
    "        return loss_arry3\n",
    "    \n",
    "    def get_accuracy(self,X,Y):\n",
    "        self.weights = np.zeros(X.shape[1])\n",
    "        accu=[]\n",
    "        for i in range(self.epoch):\n",
    "            z = np.dot(X, self.weights)\n",
    "            sigmoid = 1 / (1 + np.exp(-z))\n",
    "            gradient = np.dot(X.T, (sigmoid - Y)) / Y.size\n",
    "            self.weights -= self.lr * gradient\n",
    "            z = np.dot(X, self.weights)\n",
    "            sigmoid = 1 / (1 + np.exp(-z))\n",
    "            loss = (-Y * np.log(sigmoid) - (1 - Y) * np.log(1 - sigmoid)).mean()\n",
    "            accu.append(sigmoid>=0.5)\n",
    "        return accu\n",
    "            \n",
    "    def predict_prob(self, X):\n",
    "        z=np.dot(X, self.weights)\n",
    "        sigmoid = 1 / (1 + np.exp(-z))   \n",
    "        return sigmoid\n",
    "    \n",
    "    def predict(self, X):\n",
    "        return self.predict_prob(X)>=0.5"
   ]
  },
  {
   "cell_type": "markdown",
   "metadata": {},
   "source": [
    "# Tune hyper-parameters:"
   ]
  },
  {
   "cell_type": "markdown",
   "metadata": {},
   "source": [
    "# Tuning epoch"
   ]
  },
  {
   "cell_type": "code",
   "execution_count": 2099,
   "metadata": {},
   "outputs": [],
   "source": [
    "#TUNE EPOCH USING VALIDATION SET FOR LR=1 AND 0.05\n",
    "### result: better prediction at 50000\n",
    "#TAKES AROUND 2-3 MINS FOR COMPLETETION\n",
    "pred_arr=[]\n",
    "for i in (10,100,1000,10000,30000,50000,80000):\n",
    "    model = LogisticRegression(lr=1, epoch=i)\n",
    "    np.seterr(divide='ignore', invalid='ignore')\n",
    "    model.train(X, Y)\n",
    "    preds = model.predict(X_val)\n",
    "    (preds==Y_val).mean()\n",
    "    pred_arr.append((preds==Y_val).mean())\n",
    "pred_arr2=[]\n",
    "for i in (10,100,1000,10000,30000,50000,80000):\n",
    "    model = LogisticRegression(lr=0.05, epoch=i)\n",
    "    np.seterr(divide='ignore', invalid='ignore')\n",
    "    model.train(X, Y)\n",
    "    preds = model.predict(X_val)\n",
    "    (preds==Y_val).mean()\n",
    "    pred_arr2.append((preds==Y_val).mean())"
   ]
  },
  {
   "cell_type": "code",
   "execution_count": 2101,
   "metadata": {},
   "outputs": [
    {
     "data": {
      "image/png": "[encoded data removed]",
      "text/plain": [
       "<Figure size 432x288 with 1 Axes>"
      ]
     },
     "metadata": {},
     "output_type": "display_data"
    }
   ],
   "source": [
    "##EPOCH TUNING\n",
    "import matplotlib.pyplot as plt\n",
    "plt.plot([10,100,1000,10000,30000,50000,80000], [pred_arr[0],pred_arr[1],pred_arr[2],pred_arr[3],pred_arr[4],pred_arr[5], pred_arr[6]], 'r')\n",
    "plt.plot([10,100,1000,10000,30000,50000,80000], [pred_arr2[0],pred_arr2[1],pred_arr2[2],pred_arr2[3],pred_arr2[4],pred_arr2[5], pred_arr2[6]], 'b')\n",
    "plt.axis([0,90000, 0.8, 1])\n",
    "plt.xlabel('Number of Epoch')\n",
    "plt.ylabel('Prediction')\n",
    "plt.show()"
   ]
  },
  {
   "cell_type": "markdown",
   "metadata": {},
   "source": [
    "# Tuning learning rate"
   ]
  },
  {
   "cell_type": "code",
   "execution_count": 2102,
   "metadata": {},
   "outputs": [],
   "source": [
    "#TUNE LEARNING RATE USING VALIDATION SET FOR EPOCH=10000 AND 1000\n",
    "### result: better prediction ABOVE 0.4\n",
    "#TAKES AROUND 2-3 MINS FOR COMPLETETION\n",
    "pred_ar=[]\n",
    "for i in (0.005,0.01,0.05,0.1,0.2,0.4,0.5):\n",
    "    model = LogisticRegression(lr=i, epoch=10000)\n",
    "    np.seterr(divide='ignore', invalid='ignore')\n",
    "    model.train(X, Y)\n",
    "    preds = model.predict(X_val)\n",
    "    (preds==Y_val).mean()\n",
    "    pred_ar.append((preds==Y_val).mean())\n",
    "pred_ar2=[]\n",
    "for i in (0.005,0.01,0.05,0.1,0.2,0.4,0.5):\n",
    "    model = LogisticRegression(lr=i, epoch=1000)\n",
    "    np.seterr(divide='ignore', invalid='ignore')\n",
    "    model.train(X, Y)\n",
    "    preds = model.predict(X_val)\n",
    "    (preds==Y_val).mean()\n",
    "    pred_ar2.append((preds==Y_val).mean())"
   ]
  },
  {
   "cell_type": "code",
   "execution_count": 2105,
   "metadata": {},
   "outputs": [
    {
     "data": {
      "image/png": "[encoded data removed]",
      "text/plain": [
       "<Figure size 432x288 with 1 Axes>"
      ]
     },
     "metadata": {},
     "output_type": "display_data"
    }
   ],
   "source": [
    "##LR TUNING\n",
    "import matplotlib.pyplot as plt\n",
    "plt.plot([0.005,0.01,0.05,0.1,0.2,0.4, 0.5], [pred_ar[0],pred_ar[1],pred_ar[2],pred_ar[3],pred_ar[4],pred_ar[5],pred_ar[6]],'y')\n",
    "plt.plot([0.005,0.01,0.05,0.1,0.2,0.4, 0.5], [pred_ar2[0],pred_ar2[1],pred_ar2[2],pred_ar2[3],pred_ar2[4],pred_ar2[5],pred_ar2[6]], 'b')\n",
    "plt.axis([0, 0.6, 0.8, 1])\n",
    "plt.xlabel('Learning rate')\n",
    "plt.ylabel('Predictions')\n",
    "plt.show()"
   ]
  },
  {
   "cell_type": "markdown",
   "metadata": {},
   "source": [
    "# Testing logistic regression scheme on the testing set:"
   ]
  },
  {
   "cell_type": "code",
   "execution_count": 2106,
   "metadata": {},
   "outputs": [],
   "source": [
    "##CREATE ACCURACY ARRAY FOR LR=0.3 AND EPOCH 1000\n",
    "\n",
    "model = LogisticRegression(lr=0.3, epoch=1000)\n",
    "np.seterr(divide='ignore', invalid='ignore')\n",
    "model.train(X, Y)\n",
    "accuracy_array=[]\n",
    "pred = model.get_accuracy(X_test,Y_test)\n",
    "(pred==Y_test).mean()\n",
    "for i in range(1000):\n",
    "    from sklearn.metrics import confusion_matrix\n",
    "    confusion_matrix = confusion_matrix(Y_test, pred[i])\n",
    "    TP=confusion_matrix[0,0]\n",
    "    FN=confusion_matrix[0,1]\n",
    "    FP=confusion_matrix[1,0]\n",
    "    TN=confusion_matrix[1,1]\n",
    "    accuracy=(TP+TN)/(TP+TN+FP+FN)\n",
    "    accuracy_array.append(accuracy)\n",
    "    \n",
    "    \n",
    "##CREATE ACCURACY ARRAY FOR LR=0.0.05 AND EPOCH 1000\n",
    "\n",
    "model = LogisticRegression(lr=0.05, epoch=1000)\n",
    "np.seterr(divide='ignore', invalid='ignore')\n",
    "model.train(X, Y)\n",
    "accuracy_array2=[]\n",
    "pred2 = model.get_accuracy(X_test,Y_test)\n",
    "(pred2==Y_test).mean()\n",
    "for i in range(1000):\n",
    "    from sklearn.metrics import confusion_matrix\n",
    "    confusion_matrix = confusion_matrix(Y_test, pred2[i])\n",
    "    TP=confusion_matrix[0,0]\n",
    "    FN=confusion_matrix[0,1]\n",
    "    FP=confusion_matrix[1,0]\n",
    "    TN=confusion_matrix[1,1]\n",
    "    accuracy2=(TP+TN)/(TP+TN+FP+FN)\n",
    "    accuracy_array2.append(accuracy2)"
   ]
  },
  {
   "cell_type": "code",
   "execution_count": 2107,
   "metadata": {},
   "outputs": [
    {
     "data": {
      "image/png": "[encoded data removed]",
      "text/plain": [
       "<Figure size 432x288 with 1 Axes>"
      ]
     },
     "metadata": {},
     "output_type": "display_data"
    }
   ],
   "source": [
    "## PLOT GRAPH FOR ACCURACY VS NO. OF EPOCH FOR LR=0.3 AND EPOCH 1000\n",
    "epoch1=[]\n",
    "for i in range(1000):\n",
    " epoch1.append(i)\n",
    "plt.plot(epoch1,accuracy_array,'g')\n",
    "plt.plot(epoch1,accuracy_array2,'y')\n",
    "plt.axis([0, 1007, 0.3, 1])\n",
    "plt.xlabel(\"No. of Epochs\")\n",
    "plt.ylabel(\"Accuracy\")\n",
    "plt.show()"
   ]
  },
  {
   "cell_type": "code",
   "execution_count": 2125,
   "metadata": {},
   "outputs": [
    {
     "name": "stdout",
     "output_type": "stream",
     "text": [
      "0.8771929824561403\n"
     ]
    }
   ],
   "source": [
    "#cALCUALTE MEAN PREDICTION ON TEST DATA\n",
    "model = LogisticRegression(lr=0.05, epoch=1000)\n",
    "np.seterr(divide='ignore', invalid='ignore')\n",
    "model.train(X, Y)\n",
    "predi = model.predict(X_test)\n",
    "print((predi==Y_test).mean())"
   ]
  },
  {
   "cell_type": "code",
   "execution_count": null,
   "metadata": {},
   "outputs": [],
   "source": []
  },
  {
   "cell_type": "code",
   "execution_count": 2121,
   "metadata": {},
   "outputs": [
    {
     "name": "stdout",
     "output_type": "stream",
     "text": [
      "[[34  0]\n",
      " [ 2 21]]\n"
     ]
    }
   ],
   "source": [
    "#CONFUSION MATRIX FOR TEST DATA \n",
    "from sklearn.metrics import confusion_matrix\n",
    "confusion_matrix = confusion_matrix(Y_test, predi)\n",
    "print(confusion_matrix)"
   ]
  },
  {
   "cell_type": "code",
   "execution_count": 2130,
   "metadata": {},
   "outputs": [
    {
     "name": "stdout",
     "output_type": "stream",
     "text": [
      "0.9649122807017544\n"
     ]
    }
   ],
   "source": [
    "#CALCUALTE ACCURACY\n",
    "TP=confusion_matrix[0,0]\n",
    "FN=confusion_matrix[0,1]\n",
    "FP=confusion_matrix[1,0]\n",
    "TN=confusion_matrix[1,1]\n",
    "\n",
    "accuracy=(TP+TN)/(TP+TN+FP+FN)\n",
    "print(accuracy)"
   ]
  },
  {
   "cell_type": "code",
   "execution_count": 2123,
   "metadata": {},
   "outputs": [
    {
     "data": {
      "text/plain": [
       "0.9444444444444444"
      ]
     },
     "execution_count": 2123,
     "metadata": {},
     "output_type": "execute_result"
    }
   ],
   "source": [
    "#CALUCATE PRECISION\n",
    "precision= TP/(TP+FP)\n",
    "precision"
   ]
  },
  {
   "cell_type": "code",
   "execution_count": 2124,
   "metadata": {},
   "outputs": [
    {
     "data": {
      "text/plain": [
       "1.0"
      ]
     },
     "execution_count": 2124,
     "metadata": {},
     "output_type": "execute_result"
    }
   ],
   "source": [
    "#CALCULATE RECALL\n",
    "recall=TP/(TP+FN)\n",
    "recall"
   ]
  },
  {
   "cell_type": "code",
   "execution_count": 1940,
   "metadata": {},
   "outputs": [
    {
     "data": {
      "image/png": "[encoded data removed]",
      "text/plain": [
       "<Figure size 432x288 with 1 Axes>"
      ]
     },
     "metadata": {},
     "output_type": "display_data"
    }
   ],
   "source": [
    "#plot (ROC) receiver operating characteristic curve\n",
    "from sklearn.metrics import roc_auc_score\n",
    "from sklearn.metrics import roc_curve\n",
    "%matplotlib inline\n",
    "fpr, tpr, _ = roc_curve(Y_test, preds)\n",
    "auc = roc_auc_score(Y_test, preds)\n",
    "plt.plot(fpr,tpr,label=\"data 1, auc=\"+str(auc))\n",
    "plt.legend(loc=4)\n",
    "plt.show()"
   ]
  }
 ],
 "metadata": {
  "celltoolbar": "Raw Cell Format",
  "kernelspec": {
   "display_name": "Python 3",
   "language": "python",
   "name": "python3"
  },
  "language_info": {
   "codemirror_mode": {
    "name": "ipython",
    "version": 3
   },
   "file_extension": ".py",
   "mimetype": "text/x-python",
   "name": "python",
   "nbconvert_exporter": "python",
   "pygments_lexer": "ipython3",
   "version": "3.6.5"
  }
 },
 "nbformat": 4,
 "nbformat_minor": 2
}
